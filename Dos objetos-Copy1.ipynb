{
 "cells": [
  {
   "cell_type": "code",
   "execution_count": 1,
   "metadata": {},
   "outputs": [],
   "source": [
    "%matplotlib inline\n",
    "import matplotlib.pyplot as plt\n",
    "plt.rcParams['animation.embed_limit'] = 200 #MB\n",
    "\n",
    "import math\n",
    "\n",
    "masa1 = 183000 # kg\n",
    "masa2 = 5.972e+24 # kg\n",
    "xoa = 0 # m\n",
    "yoa = 360000 # m\n",
    "xob = 0 # m\n",
    "yob = 0 # m\n",
    "voa = 7660 # m/s\n",
    "Aa = 0.0 # rad\n",
    "vob = 0 # m/s\n",
    "Ab = 0 # rad\n",
    "t = 0.00000001 # s\n",
    "\n",
    "count = 1"
   ]
  },
  {
   "cell_type": "code",
   "execution_count": 2,
   "metadata": {},
   "outputs": [],
   "source": [
    "def polar_a_cartesiano(modulo, argumento):\n",
    "    y = math.sin(argumento) * modulo\n",
    "    x = math.cos(argumento) * modulo    \n",
    "    return x, y"
   ]
  },
  {
   "cell_type": "code",
   "execution_count": 3,
   "metadata": {},
   "outputs": [],
   "source": [
    "def cartesiano_a_polar(x,y):\n",
    "\n",
    "    if x == 0:\n",
    "        modulo = abs(y)\n",
    "        if y > 0:\n",
    "            argumento = math.pi / 2\n",
    "        else:\n",
    "            argumento = math.pi * 1.5\n",
    "    else:\n",
    "        angulo = math.atan(y / x)\n",
    "        modulo = math.sqrt(((x)**2)+((y)**2))\n",
    "        if ((x > 0) and (y > 0)) or ((x > 0) and (y < 0)):\n",
    "            argumento = angulo\n",
    "        else:\n",
    "            argumento = angulo + math.pi\n",
    "    return modulo, argumento"
   ]
  },
  {
   "cell_type": "code",
   "execution_count": 4,
   "metadata": {},
   "outputs": [],
   "source": [
    "def calculo_aceleracion(pxa, pya, pxb, pyb):\n",
    "    dx = pxb - pxa\n",
    "    dy = pyb - pya\n",
    "    \n",
    "    G = 6.67e-11\n",
    "    \n",
    "    if (dx == 0) and (dy == 0):\n",
    "        print(\"Los objetos han colisionado\")\n",
    "        \n",
    "    else:\n",
    "        r, argumentoac = cartesiano_a_polar(dx,dy)\n",
    "        \n",
    "        moduloac = G * ((masa1 * masa2)/(r**2)) #pon las masas como variables externas\n",
    "        \n",
    "        return moduloac, argumentoac"
   ]
  },
  {
   "cell_type": "code",
   "execution_count": 5,
   "metadata": {},
   "outputs": [],
   "source": [
    "def calculo_velocidad(vco, acel, temp):\n",
    "    v = vco + (acel * temp)\n",
    "    return v"
   ]
  },
  {
   "cell_type": "code",
   "execution_count": 6,
   "metadata": {},
   "outputs": [],
   "source": [
    "def calculo_posicion(po, vco, acel, temp):\n",
    "    p2 = po + (vco * temp) + (0.5 * (acel * (temp ** 2)))\n",
    "    return p2"
   ]
  },
  {
   "cell_type": "code",
   "execution_count": 7,
   "metadata": {},
   "outputs": [],
   "source": [
    "def calculo(temp, px1a, py1a, vx1a, vy1a, px1b, py1b, vx1b, vy1b, contador):  \n",
    "    \n",
    "    contador2 = contador+1\n",
    "    ac1, argumentoa = calculo_aceleracion(px1a, py1a, px1b, py1b)\n",
    "    ac1xa, ac1ya = polar_a_cartesiano(ac1, argumentoa)\n",
    "    \n",
    "    ac1xb = -ac1xa\n",
    "    ac1yb = -ac1ya\n",
    "    \n",
    "    px2a = calculo_posicion(px1a, vx1a, ac1xa, temp)\n",
    "    py2a = calculo_posicion(py1a, vy1a, ac1ya, temp)\n",
    "    \n",
    "    vx2a = calculo_velocidad(vx1a, ac1xa, temp)\n",
    "    vy2a = calculo_velocidad(vy1a, ac1ya, temp)\n",
    "    \n",
    "    px2b = calculo_posicion(px1b, vx1b, ac1xb, temp)\n",
    "    py2b = calculo_posicion(py1b, vy1b, ac1yb, temp)\n",
    "    \n",
    "    vx2b = calculo_velocidad(vx1b, ac1xb, temp)\n",
    "    vy2b = calculo_velocidad(vy1b, ac1yb, temp)\n",
    " \n",
    "    return px2a, py2a, vx2a, vy2a, px2b, py2b, vx2b, vy2b, contador2"
   ]
  },
  {
   "cell_type": "code",
   "execution_count": 8,
   "metadata": {},
   "outputs": [],
   "source": [
    "vxia, vyia = polar_a_cartesiano(voa, Aa)\n",
    "vxib, vyia = polar_a_cartesiano(vob, Ab)\n",
    "\n",
    "tiempo = 0\n",
    "\n",
    "posicionxa = xoa\n",
    "posicionya = yoa\n",
    "    \n",
    "velocidadxa = vxia\n",
    "velocidadya = vyia\n",
    "    \n",
    "posicionxb = xob\n",
    "posicionyb = yob\n",
    "\n",
    "velocidadxb = vxib\n",
    "velocidadyb = vyia"
   ]
  },
  {
   "cell_type": "code",
   "execution_count": 9,
   "metadata": {},
   "outputs": [],
   "source": [
    "posicionxa_sample = []\n",
    "posicionya_sample = []\n",
    "posicionxb_sample = []\n",
    "posicionyb_sample = []"
   ]
  },
  {
   "cell_type": "code",
   "execution_count": 10,
   "metadata": {},
   "outputs": [],
   "source": [
    "n = 10000\n",
    "num = 0\n",
    "while count < 800000:\n",
    "    px2a, py2a, vx2a, vy2a, px2b, py2b, vx2b, vy2b, count2 = calculo(tiempo, posicionxa, posicionya, velocidadxa, velocidadya, posicionxb, posicionyb, velocidadxb, velocidadyb, count)\n",
    "    \n",
    "    count = count2\n",
    "    \n",
    "    tiempo += t \n",
    "    \n",
    "    posicionxa = px2a\n",
    "    posicionya = py2a\n",
    "    \n",
    "    velocidadxa = vx2a\n",
    "    velocidadya = vy2a\n",
    "    \n",
    "    posicionxb = px2b\n",
    "    posicionyb = py2b\n",
    "\n",
    "    velocidadxb = vx2b\n",
    "    velocidadyb = vy2a\n",
    "    \n",
    "    if num < n:\n",
    "        num += 1\n",
    "    else:\n",
    "        posicionxa_sample.append(posicionxa)\n",
    "        posicionya_sample.append(posicionya)\n",
    "        posicionxb_sample.append(posicionxb)\n",
    "        posicionyb_sample.append(posicionyb)"
   ]
  },
  {
   "cell_type": "code",
   "execution_count": 11,
   "metadata": {
    "scrolled": true
   },
   "outputs": [
    {
     "data": {
      "text/plain": [
       "[<matplotlib.lines.Line2D at 0x64cdda8>]"
      ]
     },
     "execution_count": 11,
     "metadata": {},
     "output_type": "execute_result"
    },
    {
     "data": {
      "image/png": "[encoded data removed]",
      "text/plain": [
       "<Figure size 864x1152 with 1 Axes>"
      ]
     },
     "metadata": {
      "needs_background": "light"
     },
     "output_type": "display_data"
    }
   ],
   "source": [
    "plt.figure(figsize=(12, 16))\n",
    "plt.plot(posicionxa_sample, posicionya_sample, 'o', color='midnightblue')\n",
    "plt.plot(posicionxb_sample, posicionyb_sample, 'o', color='lightcoral')"
   ]
  },
  {
   "cell_type": "code",
   "execution_count": 12,
   "metadata": {},
   "outputs": [],
   "source": [
    "#import matplotlib.animation\n",
    "#plt.rcParams[\"animation.html\"] = \"jshtml\"\n",
    "#plt.rcParams[\"figure.dpi\"] = 100 \n",
    "#plt.ioff()"
   ]
  },
  {
   "cell_type": "code",
   "execution_count": 13,
   "metadata": {},
   "outputs": [],
   "source": [
    "#fig, ax = plt.subplots(figsize=(6,6))\n",
    "\n",
    "#def animate(i):\n",
    "#    plt.cla()\n",
    "#    plt.plot(posicionxa_sample[i], posicionya_sample[i], 'o', color='midnightblue')\n",
    "#    plt.plot(posicionxb_sample[i], posicionyb_sample[i], 'o', color='lightcoral')\n",
    "\n",
    "#matplotlib.animation.FuncAnimation(fig, animate, frames=len(posicionxa_sample))"
   ]
  },
  {
   "cell_type": "markdown",
   "metadata": {},
   "source": [
    "# Mi proyecto\n",
    "$\\pi$\n",
    "$r^2$"
   ]
  },
  {
   "cell_type": "code",
   "execution_count": null,
   "metadata": {},
   "outputs": [],
   "source": []
  },
  {
   "cell_type": "code",
   "execution_count": null,
   "metadata": {},
   "outputs": [],
   "source": []
  },
  {
   "cell_type": "code",
   "execution_count": null,
   "metadata": {},
   "outputs": [],
   "source": []
  }
 ],
 "metadata": {
  "kernelspec": {
   "display_name": "Python 3",
   "language": "python",
   "name": "python3"
  },
  "language_info": {
   "codemirror_mode": {
    "name": "ipython",
    "version": 3
   },
   "file_extension": ".py",
   "mimetype": "text/x-python",
   "name": "python",
   "nbconvert_exporter": "python",
   "pygments_lexer": "ipython3",
   "version": "3.8.3"
  }
 },
 "nbformat": 4,
 "nbformat_minor": 4
}
